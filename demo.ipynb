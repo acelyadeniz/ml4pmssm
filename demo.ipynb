{
 "cells": [
  {
   "cell_type": "code",
   "execution_count": 1,
   "metadata": {},
   "outputs": [],
   "source": [
    "import numpy as np\n",
    "import pandas as pd\n"
   ]
  },
  {
   "cell_type": "code",
   "execution_count": 3,
   "metadata": {},
   "outputs": [],
   "source": [
    "data=pd.read_parquet('bf_pred.parquet')"
   ]
  },
  {
   "cell_type": "code",
   "execution_count": 19,
   "metadata": {},
   "outputs": [
    {
     "data": {
      "text/plain": [
       "Index(['Niteration', 'chain_index', 'bf_cms_sus_19_006_mu1p0f',\n",
       "       'bf_cms_sus_20_001_mu1p0s', 'bf_cms_sus_21_006_mu1p0f',\n",
       "       'bf_cms_sus_18_004_mu1p0f', 'bf_cms_sus_21_007_mb_mu1p0s', 'chi10',\n",
       "       'chi1pm', 'chi20', 'chi2pm', 'chi30', 'chi40', 'tau1', 'g', 't1', 'b1',\n",
       "       'Mq1', 'lcsp', 'Omegah2', 'chi1pm_ctau', 'chi20_ctau', 'g_ctau',\n",
       "       'eR_ctau', 'M1', 'M2', 'mu', 'dL', 'dR', 'uL', 'uR'],\n",
       "      dtype='object')"
      ]
     },
     "execution_count": 19,
     "metadata": {},
     "output_type": "execute_result"
    }
   ],
   "source": [
    "data.columns"
   ]
  },
  {
   "cell_type": "code",
   "execution_count": 27,
   "metadata": {},
   "outputs": [
    {
     "data": {
      "text/html": [
       "<div>\n",
       "<style scoped>\n",
       "    .dataframe tbody tr th:only-of-type {\n",
       "        vertical-align: middle;\n",
       "    }\n",
       "\n",
       "    .dataframe tbody tr th {\n",
       "        vertical-align: top;\n",
       "    }\n",
       "\n",
       "    .dataframe thead th {\n",
       "        text-align: right;\n",
       "    }\n",
       "</style>\n",
       "<table border=\"1\" class=\"dataframe\">\n",
       "  <thead>\n",
       "    <tr style=\"text-align: right;\">\n",
       "      <th></th>\n",
       "      <th>bf_cms_sus_19_006_mu1p0f</th>\n",
       "      <th>bf_cms_sus_20_001_mu1p0s</th>\n",
       "      <th>bf_cms_sus_21_006_mu1p0f</th>\n",
       "      <th>bf_cms_sus_18_004_mu1p0f</th>\n",
       "      <th>bf_cms_sus_21_007_mb_mu1p0s</th>\n",
       "    </tr>\n",
       "  </thead>\n",
       "  <tbody>\n",
       "    <tr>\n",
       "      <th>count</th>\n",
       "      <td>498747.000000</td>\n",
       "      <td>498747.000000</td>\n",
       "      <td>4.987470e+05</td>\n",
       "      <td>4.987470e+05</td>\n",
       "      <td>498747.000000</td>\n",
       "    </tr>\n",
       "    <tr>\n",
       "      <th>mean</th>\n",
       "      <td>0.491183</td>\n",
       "      <td>0.976882</td>\n",
       "      <td>7.798955e-01</td>\n",
       "      <td>9.702455e-01</td>\n",
       "      <td>0.999878</td>\n",
       "    </tr>\n",
       "    <tr>\n",
       "      <th>std</th>\n",
       "      <td>0.631755</td>\n",
       "      <td>0.184677</td>\n",
       "      <td>4.197506e-01</td>\n",
       "      <td>3.715782e-01</td>\n",
       "      <td>0.005078</td>\n",
       "    </tr>\n",
       "    <tr>\n",
       "      <th>min</th>\n",
       "      <td>0.000000</td>\n",
       "      <td>0.000000</td>\n",
       "      <td>1.000000e-20</td>\n",
       "      <td>1.000000e-20</td>\n",
       "      <td>0.000166</td>\n",
       "    </tr>\n",
       "    <tr>\n",
       "      <th>25%</th>\n",
       "      <td>0.004148</td>\n",
       "      <td>1.000000</td>\n",
       "      <td>6.964659e-01</td>\n",
       "      <td>1.000000e+00</td>\n",
       "      <td>0.999999</td>\n",
       "    </tr>\n",
       "    <tr>\n",
       "      <th>50%</th>\n",
       "      <td>0.367717</td>\n",
       "      <td>1.000000</td>\n",
       "      <td>1.000000e+00</td>\n",
       "      <td>1.000000e+00</td>\n",
       "      <td>1.000000</td>\n",
       "    </tr>\n",
       "    <tr>\n",
       "      <th>75%</th>\n",
       "      <td>0.953081</td>\n",
       "      <td>1.001591</td>\n",
       "      <td>1.000000e+00</td>\n",
       "      <td>1.000000e+00</td>\n",
       "      <td>1.000000</td>\n",
       "    </tr>\n",
       "    <tr>\n",
       "      <th>max</th>\n",
       "      <td>148.320322</td>\n",
       "      <td>4.717802</td>\n",
       "      <td>6.732892e+00</td>\n",
       "      <td>1.592737e+02</td>\n",
       "      <td>1.727814</td>\n",
       "    </tr>\n",
       "  </tbody>\n",
       "</table>\n",
       "</div>"
      ],
      "text/plain": [
       "       bf_cms_sus_19_006_mu1p0f  bf_cms_sus_20_001_mu1p0s  \\\n",
       "count             498747.000000             498747.000000   \n",
       "mean                   0.491183                  0.976882   \n",
       "std                    0.631755                  0.184677   \n",
       "min                    0.000000                  0.000000   \n",
       "25%                    0.004148                  1.000000   \n",
       "50%                    0.367717                  1.000000   \n",
       "75%                    0.953081                  1.001591   \n",
       "max                  148.320322                  4.717802   \n",
       "\n",
       "       bf_cms_sus_21_006_mu1p0f  bf_cms_sus_18_004_mu1p0f  \\\n",
       "count              4.987470e+05              4.987470e+05   \n",
       "mean               7.798955e-01              9.702455e-01   \n",
       "std                4.197506e-01              3.715782e-01   \n",
       "min                1.000000e-20              1.000000e-20   \n",
       "25%                6.964659e-01              1.000000e+00   \n",
       "50%                1.000000e+00              1.000000e+00   \n",
       "75%                1.000000e+00              1.000000e+00   \n",
       "max                6.732892e+00              1.592737e+02   \n",
       "\n",
       "       bf_cms_sus_21_007_mb_mu1p0s  \n",
       "count                498747.000000  \n",
       "mean                      0.999878  \n",
       "std                       0.005078  \n",
       "min                       0.000166  \n",
       "25%                       0.999999  \n",
       "50%                       1.000000  \n",
       "75%                       1.000000  \n",
       "max                       1.727814  "
      ]
     },
     "execution_count": 27,
     "metadata": {},
     "output_type": "execute_result"
    }
   ],
   "source": [
    "data[['bf_cms_sus_19_006_mu1p0f',\n",
    "       'bf_cms_sus_20_001_mu1p0s', 'bf_cms_sus_21_006_mu1p0f',\n",
    "       'bf_cms_sus_18_004_mu1p0f', 'bf_cms_sus_21_007_mb_mu1p0s']].describe()"
   ]
  },
  {
   "cell_type": "code",
   "execution_count": null,
   "metadata": {},
   "outputs": [],
   "source": []
  }
 ],
 "metadata": {
  "kernelspec": {
   "display_name": "ml4pmssm",
   "language": "python",
   "name": "python3"
  },
  "language_info": {
   "codemirror_mode": {
    "name": "ipython",
    "version": 3
   },
   "file_extension": ".py",
   "mimetype": "text/x-python",
   "name": "python",
   "nbconvert_exporter": "python",
   "pygments_lexer": "ipython3",
   "version": "3.11.11"
  }
 },
 "nbformat": 4,
 "nbformat_minor": 2
}
